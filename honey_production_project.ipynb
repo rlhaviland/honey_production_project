{
 "cells": [
  {
   "cell_type": "code",
   "execution_count": 1,
   "id": "62613ec0-6244-4517-9373-253f2489b8d7",
   "metadata": {},
   "outputs": [],
   "source": [
    "import pandas as pd"
   ]
  },
  {
   "cell_type": "code",
   "execution_count": 2,
   "id": "cb01cec5-df89-4d2f-bb89-64e35458fc25",
   "metadata": {},
   "outputs": [],
   "source": [
    "df = pd.read_csv('honeyproduction.csv', low_memory=False)"
   ]
  },
  {
   "cell_type": "code",
   "execution_count": 3,
   "id": "d5afd6c9-0799-4060-b29d-be9ee7f21b76",
   "metadata": {},
   "outputs": [
    {
     "name": "stdout",
     "output_type": "stream",
     "text": [
      "  state    numcol  yieldpercol   totalprod      stocks  priceperlb  \\\n",
      "0    AL   16000.0           71   1136000.0    159000.0        0.72   \n",
      "1    AZ   55000.0           60   3300000.0   1485000.0        0.64   \n",
      "2    AR   53000.0           65   3445000.0   1688000.0        0.59   \n",
      "3    CA  450000.0           83  37350000.0  12326000.0        0.62   \n",
      "4    CO   27000.0           72   1944000.0   1594000.0        0.70   \n",
      "\n",
      "    prodvalue  year  \n",
      "0    818000.0  1998  \n",
      "1   2112000.0  1998  \n",
      "2   2033000.0  1998  \n",
      "3  23157000.0  1998  \n",
      "4   1361000.0  1998  \n"
     ]
    }
   ],
   "source": [
    "print(df.head())"
   ]
  },
  {
   "cell_type": "code",
   "execution_count": 4,
   "id": "0c954153-1f01-40f4-873d-b995480f83f0",
   "metadata": {},
   "outputs": [],
   "source": [
    "import seaborn as sns"
   ]
  },
  {
   "cell_type": "code",
   "execution_count": 5,
   "id": "c3591777-9f7d-49e0-92a5-7c7bcb648dd9",
   "metadata": {},
   "outputs": [],
   "source": [
    "import matplotlib.pyplot as plt"
   ]
  },
  {
   "cell_type": "code",
   "execution_count": 6,
   "id": "0d8b6a0a-89d2-42fa-9077-451762f31b7f",
   "metadata": {},
   "outputs": [],
   "source": [
    "#find the mean of totalprod per year\n",
    "prod_per_year = df.groupby('year').totalprod.mean().reset_index()"
   ]
  },
  {
   "cell_type": "code",
   "execution_count": 7,
   "id": "95ff6b42-562b-4142-8c57-855dec4da93a",
   "metadata": {},
   "outputs": [],
   "source": [
    "#Create a variable called X that is the column of years in this prod_per_year DataFrame. \n",
    "X = prod_per_year[\"year\"]"
   ]
  },
  {
   "cell_type": "code",
   "execution_count": 8,
   "id": "ef7783cf-e8d0-4942-9b5a-de73f5bde0e9",
   "metadata": {},
   "outputs": [],
   "source": [
    "#Reshape X to get it into the right format. \n",
    "X = X.values.reshape(-1,1)"
   ]
  },
  {
   "cell_type": "code",
   "execution_count": 9,
   "id": "33f3f7f6-7823-4d94-bbe3-b7c371d3f98b",
   "metadata": {},
   "outputs": [],
   "source": [
    "#Create a variable called y that is the totalprod column in the prod_per_year dataset.\n",
    "y = prod_per_year[\"totalprod\"]"
   ]
  },
  {
   "cell_type": "code",
   "execution_count": null,
   "id": "a8f435ef-6e81-4403-8eae-e71abcab51e8",
   "metadata": {},
   "outputs": [],
   "source": []
  }
 ],
 "metadata": {
  "kernelspec": {
   "display_name": "Python 3 (ipykernel)",
   "language": "python",
   "name": "python3"
  },
  "language_info": {
   "codemirror_mode": {
    "name": "ipython",
    "version": 3
   },
   "file_extension": ".py",
   "mimetype": "text/x-python",
   "name": "python",
   "nbconvert_exporter": "python",
   "pygments_lexer": "ipython3",
   "version": "3.9.7"
  }
 },
 "nbformat": 4,
 "nbformat_minor": 5
}
